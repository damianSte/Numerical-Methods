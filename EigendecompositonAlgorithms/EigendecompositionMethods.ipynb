{
 "cells": [
  {
   "cell_type": "code",
   "id": "initial_id",
   "metadata": {
    "collapsed": true,
    "ExecuteTime": {
     "end_time": "2024-12-27T19:53:12.495384Z",
     "start_time": "2024-12-27T19:53:12.285363Z"
    }
   },
   "source": [
    "import numpy as np\n",
    "import time"
   ],
   "outputs": [],
   "execution_count": 2
  },
  {
   "metadata": {
    "ExecuteTime": {
     "end_time": "2024-12-27T19:53:13.476123Z",
     "start_time": "2024-12-27T19:53:13.402305Z"
    }
   },
   "cell_type": "code",
   "source": "A =  np.random.randint(0, 101, size=(1000, 1000))",
   "id": "4b978fccbcc4417a",
   "outputs": [],
   "execution_count": 3
  },
  {
   "metadata": {
    "ExecuteTime": {
     "end_time": "2024-12-27T19:53:14.509838Z",
     "start_time": "2024-12-27T19:53:14.503819Z"
    }
   },
   "cell_type": "code",
   "source": [
    "def power_iteration(A, tol=1e-6):\n",
    "    n, _ = A.shape\n",
    "    v = np.random.rand(n)\n",
    "    v /= np.linalg.norm(v)\n",
    "    while True:\n",
    "        v_new = np.dot(A, v)\n",
    "        v_new /= np.linalg.norm(v_new)\n",
    "        if np.linalg.norm(v - v_new) < tol:\n",
    "            break\n",
    "        v = v_new\n",
    "    eigenvalue = np.dot(v, np.dot(A, v)) / np.dot(v, v)\n",
    "    return eigenvalue, v"
   ],
   "id": "287afb263df37c2f",
   "outputs": [],
   "execution_count": 4
  },
  {
   "metadata": {
    "ExecuteTime": {
     "end_time": "2024-12-27T19:53:18.017295Z",
     "start_time": "2024-12-27T19:53:17.974012Z"
    }
   },
   "cell_type": "code",
   "source": [
    "start_time = time.time()\n",
    "eigenvalue, eigenvector = power_iteration(A)\n",
    "end_time = time.time()\n",
    "elapsed_time = end_time - start_time\n",
    "\n",
    "print(f\" Power Iteration matrix 1000x1000, elapsed time: {elapsed_time:.6f} seconds\")"
   ],
   "id": "c190c4e7ab5be29c",
   "outputs": [
    {
     "name": "stdout",
     "output_type": "stream",
     "text": [
      " Power Iteration matrix 1000x1000, elapsed time: 0.040016 seconds\n"
     ]
    }
   ],
   "execution_count": 6
  },
  {
   "metadata": {
    "ExecuteTime": {
     "end_time": "2024-12-27T19:53:28.100136Z",
     "start_time": "2024-12-27T19:53:28.061455Z"
    }
   },
   "cell_type": "code",
   "source": [
    "start_time = time.time()\n",
    "eigenvalue, eigenvector = power_iteration(A)\n",
    "end_time = time.time()\n",
    "elapsed_time = end_time - start_time\n",
    "\n",
    "print(f\" Power Iteration matrix 1000x1000, elapsed time: {elapsed_time:.6f} seconds\")"
   ],
   "id": "458f9dec6ff622b",
   "outputs": [
    {
     "name": "stdout",
     "output_type": "stream",
     "text": [
      " Power Iteration matrix 1000x1000, elapsed time: 0.033122 seconds\n"
     ]
    }
   ],
   "execution_count": 7
  },
  {
   "metadata": {
    "ExecuteTime": {
     "end_time": "2024-12-27T19:53:37.696073Z",
     "start_time": "2024-12-27T19:53:37.688537Z"
    }
   },
   "cell_type": "code",
   "source": [
    "def qr_algorithm(A, num_iter=1000, tol=1e-6):\n",
    "    A_k = np.copy(A)\n",
    "    for _ in range(num_iter):\n",
    "        Q, R = np.linalg.qr(A_k)\n",
    "        A_k = np.dot(R, Q)\n",
    "\n",
    "    return np.diag(A_k)\n"
   ],
   "id": "16901d433630f299",
   "outputs": [],
   "execution_count": 8
  },
  {
   "metadata": {
    "ExecuteTime": {
     "end_time": "2024-12-27T19:53:54.229693Z",
     "start_time": "2024-12-27T19:53:47.051427Z"
    }
   },
   "cell_type": "code",
   "source": [
    "start_time = time.time()\n",
    "eigenvalues = qr_algorithm(A)\n",
    "end_time = time.time()\n",
    "elapsed_time = end_time - start_time\n",
    "\n",
    "print(f\" QR Algorithm matrix 100x100, elapsed time: {elapsed_time:.6f} seconds\")"
   ],
   "id": "9792a9b5bf644874",
   "outputs": [
    {
     "ename": "KeyboardInterrupt",
     "evalue": "",
     "output_type": "error",
     "traceback": [
      "\u001B[1;31m---------------------------------------------------------------------------\u001B[0m",
      "\u001B[1;31mKeyboardInterrupt\u001B[0m                         Traceback (most recent call last)",
      "Cell \u001B[1;32mIn[9], line 2\u001B[0m\n\u001B[0;32m      1\u001B[0m start_time \u001B[38;5;241m=\u001B[39m time\u001B[38;5;241m.\u001B[39mtime()\n\u001B[1;32m----> 2\u001B[0m eigenvalues \u001B[38;5;241m=\u001B[39m \u001B[43mqr_algorithm\u001B[49m\u001B[43m(\u001B[49m\u001B[43mA\u001B[49m\u001B[43m)\u001B[49m\n\u001B[0;32m      3\u001B[0m end_time \u001B[38;5;241m=\u001B[39m time\u001B[38;5;241m.\u001B[39mtime()\n\u001B[0;32m      4\u001B[0m elapsed_time \u001B[38;5;241m=\u001B[39m end_time \u001B[38;5;241m-\u001B[39m start_time\n",
      "Cell \u001B[1;32mIn[8], line 4\u001B[0m, in \u001B[0;36mqr_algorithm\u001B[1;34m(A, num_iter, tol)\u001B[0m\n\u001B[0;32m      2\u001B[0m A_k \u001B[38;5;241m=\u001B[39m np\u001B[38;5;241m.\u001B[39mcopy(A)\n\u001B[0;32m      3\u001B[0m \u001B[38;5;28;01mfor\u001B[39;00m _ \u001B[38;5;129;01min\u001B[39;00m \u001B[38;5;28mrange\u001B[39m(num_iter):\n\u001B[1;32m----> 4\u001B[0m     Q, R \u001B[38;5;241m=\u001B[39m \u001B[43mnp\u001B[49m\u001B[38;5;241;43m.\u001B[39;49m\u001B[43mlinalg\u001B[49m\u001B[38;5;241;43m.\u001B[39;49m\u001B[43mqr\u001B[49m\u001B[43m(\u001B[49m\u001B[43mA_k\u001B[49m\u001B[43m)\u001B[49m\n\u001B[0;32m      5\u001B[0m     A_k \u001B[38;5;241m=\u001B[39m np\u001B[38;5;241m.\u001B[39mdot(R, Q)\n\u001B[0;32m      7\u001B[0m \u001B[38;5;28;01mreturn\u001B[39;00m np\u001B[38;5;241m.\u001B[39mdiag(A_k)\n",
      "File \u001B[1;32m~\\Documents\\Studia\\Numerical Methods\\NumericalMethodsLabs\\.venv\\Lib\\site-packages\\numpy\\linalg\\_linalg.py:1098\u001B[0m, in \u001B[0;36mqr\u001B[1;34m(a, mode)\u001B[0m\n\u001B[0;32m   1095\u001B[0m signature \u001B[38;5;241m=\u001B[39m \u001B[38;5;124m'\u001B[39m\u001B[38;5;124mD->D\u001B[39m\u001B[38;5;124m'\u001B[39m \u001B[38;5;28;01mif\u001B[39;00m isComplexType(t) \u001B[38;5;28;01melse\u001B[39;00m \u001B[38;5;124m'\u001B[39m\u001B[38;5;124md->d\u001B[39m\u001B[38;5;124m'\u001B[39m\n\u001B[0;32m   1096\u001B[0m \u001B[38;5;28;01mwith\u001B[39;00m errstate(call\u001B[38;5;241m=\u001B[39m_raise_linalgerror_qr, invalid\u001B[38;5;241m=\u001B[39m\u001B[38;5;124m'\u001B[39m\u001B[38;5;124mcall\u001B[39m\u001B[38;5;124m'\u001B[39m,\n\u001B[0;32m   1097\u001B[0m               over\u001B[38;5;241m=\u001B[39m\u001B[38;5;124m'\u001B[39m\u001B[38;5;124mignore\u001B[39m\u001B[38;5;124m'\u001B[39m, divide\u001B[38;5;241m=\u001B[39m\u001B[38;5;124m'\u001B[39m\u001B[38;5;124mignore\u001B[39m\u001B[38;5;124m'\u001B[39m, under\u001B[38;5;241m=\u001B[39m\u001B[38;5;124m'\u001B[39m\u001B[38;5;124mignore\u001B[39m\u001B[38;5;124m'\u001B[39m):\n\u001B[1;32m-> 1098\u001B[0m     tau \u001B[38;5;241m=\u001B[39m \u001B[43m_umath_linalg\u001B[49m\u001B[38;5;241;43m.\u001B[39;49m\u001B[43mqr_r_raw\u001B[49m\u001B[43m(\u001B[49m\u001B[43ma\u001B[49m\u001B[43m,\u001B[49m\u001B[43m \u001B[49m\u001B[43msignature\u001B[49m\u001B[38;5;241;43m=\u001B[39;49m\u001B[43msignature\u001B[49m\u001B[43m)\u001B[49m\n\u001B[0;32m   1100\u001B[0m \u001B[38;5;66;03m# handle modes that don't return q\u001B[39;00m\n\u001B[0;32m   1101\u001B[0m \u001B[38;5;28;01mif\u001B[39;00m mode \u001B[38;5;241m==\u001B[39m \u001B[38;5;124m'\u001B[39m\u001B[38;5;124mr\u001B[39m\u001B[38;5;124m'\u001B[39m:\n",
      "\u001B[1;31mKeyboardInterrupt\u001B[0m: "
     ]
    }
   ],
   "execution_count": 9
  },
  {
   "metadata": {
    "ExecuteTime": {
     "end_time": "2024-12-27T16:49:43.800808Z",
     "start_time": "2024-12-27T16:49:43.794313Z"
    }
   },
   "cell_type": "code",
   "source": [
    "def jacobi_method(A, tol=1e-6):\n",
    "    n = A.shape[0]\n",
    "    V = np.eye(n)\n",
    "\n",
    "    def max_off_diag(A):\n",
    "        max_val = 0\n",
    "        p, q = 0, 0\n",
    "        for i in range(n):\n",
    "            for j in range(i+1, n):\n",
    "                if abs(A[i, j]) > max_val:\n",
    "                    max_val = abs(A[i, j])\n",
    "                    p, q = i, j\n",
    "        return p, q\n",
    "\n",
    "    while True:\n",
    "        p, q = max_off_diag(A)\n",
    "        if abs(A[p, q]) < tol:\n",
    "            break\n",
    "\n",
    "        theta = 0.5 * np.arctan2(2 * A[p, q], A[q, q] - A[p, p])\n",
    "        c, s = np.cos(theta), np.sin(theta)\n",
    "        J = np.eye(n)\n",
    "        J[p, p], J[q, q], J[p, q], J[q, p] = c, c, s, -s\n",
    "\n",
    "        A = J.T @ A @ J\n",
    "        V = V @ J\n",
    "\n",
    "    return np.diag(A), V\n"
   ],
   "id": "e452ba983d8f9854",
   "outputs": [],
   "execution_count": 11
  },
  {
   "metadata": {
    "ExecuteTime": {
     "end_time": "2024-12-27T16:53:50.814308Z",
     "start_time": "2024-12-27T16:53:50.810435Z"
    }
   },
   "cell_type": "code",
   "source": "A =  np.random.randint(0, 101, size=(5,5))",
   "id": "56166adb815af4e5",
   "outputs": [],
   "execution_count": 26
  },
  {
   "metadata": {
    "ExecuteTime": {
     "end_time": "2024-12-27T16:53:58.416566Z",
     "start_time": "2024-12-27T16:53:51.921643Z"
    }
   },
   "cell_type": "code",
   "source": [
    "start_time = time.time()\n",
    "eigenvalues, eigenvectors = jacobi_method(A)\n",
    "end_time = time.time()\n",
    "elapsed_time = end_time - start_time\n",
    "\n",
    "print(f\" Jacobi Method matrix 1000x1000, elapsed time: {elapsed_time:.6f} seconds\")"
   ],
   "id": "5079b97daec38ff1",
   "outputs": [
    {
     "ename": "KeyboardInterrupt",
     "evalue": "",
     "output_type": "error",
     "traceback": [
      "\u001B[1;31m---------------------------------------------------------------------------\u001B[0m",
      "\u001B[1;31mKeyboardInterrupt\u001B[0m                         Traceback (most recent call last)",
      "Cell \u001B[1;32mIn[27], line 2\u001B[0m\n\u001B[0;32m      1\u001B[0m start_time \u001B[38;5;241m=\u001B[39m time\u001B[38;5;241m.\u001B[39mtime()\n\u001B[1;32m----> 2\u001B[0m eigenvalues, eigenvectors \u001B[38;5;241m=\u001B[39m \u001B[43mjacobi_method\u001B[49m\u001B[43m(\u001B[49m\u001B[43mA\u001B[49m\u001B[43m)\u001B[49m\n\u001B[0;32m      3\u001B[0m end_time \u001B[38;5;241m=\u001B[39m time\u001B[38;5;241m.\u001B[39mtime()\n\u001B[0;32m      4\u001B[0m elapsed_time \u001B[38;5;241m=\u001B[39m end_time \u001B[38;5;241m-\u001B[39m start_time\n",
      "Cell \u001B[1;32mIn[11], line 16\u001B[0m, in \u001B[0;36mjacobi_method\u001B[1;34m(A, tol)\u001B[0m\n\u001B[0;32m     13\u001B[0m     \u001B[38;5;28;01mreturn\u001B[39;00m p, q\n\u001B[0;32m     15\u001B[0m \u001B[38;5;28;01mwhile\u001B[39;00m \u001B[38;5;28;01mTrue\u001B[39;00m:\n\u001B[1;32m---> 16\u001B[0m     p, q \u001B[38;5;241m=\u001B[39m \u001B[43mmax_off_diag\u001B[49m\u001B[43m(\u001B[49m\u001B[43mA\u001B[49m\u001B[43m)\u001B[49m\n\u001B[0;32m     17\u001B[0m     \u001B[38;5;28;01mif\u001B[39;00m \u001B[38;5;28mabs\u001B[39m(A[p, q]) \u001B[38;5;241m<\u001B[39m tol:\n\u001B[0;32m     18\u001B[0m         \u001B[38;5;28;01mbreak\u001B[39;00m\n",
      "Cell \u001B[1;32mIn[11], line 10\u001B[0m, in \u001B[0;36mjacobi_method.<locals>.max_off_diag\u001B[1;34m(A)\u001B[0m\n\u001B[0;32m      8\u001B[0m \u001B[38;5;28;01mfor\u001B[39;00m i \u001B[38;5;129;01min\u001B[39;00m \u001B[38;5;28mrange\u001B[39m(n):\n\u001B[0;32m      9\u001B[0m     \u001B[38;5;28;01mfor\u001B[39;00m j \u001B[38;5;129;01min\u001B[39;00m \u001B[38;5;28mrange\u001B[39m(i\u001B[38;5;241m+\u001B[39m\u001B[38;5;241m1\u001B[39m, n):\n\u001B[1;32m---> 10\u001B[0m         \u001B[38;5;28;01mif\u001B[39;00m \u001B[38;5;28mabs\u001B[39m(A[i, j]) \u001B[38;5;241m>\u001B[39m max_val:\n\u001B[0;32m     11\u001B[0m             max_val \u001B[38;5;241m=\u001B[39m \u001B[38;5;28mabs\u001B[39m(A[i, j])\n\u001B[0;32m     12\u001B[0m             p, q \u001B[38;5;241m=\u001B[39m i, j\n",
      "\u001B[1;31mKeyboardInterrupt\u001B[0m: "
     ]
    }
   ],
   "execution_count": 27
  }
 ],
 "metadata": {
  "kernelspec": {
   "display_name": "Python 3",
   "language": "python",
   "name": "python3"
  },
  "language_info": {
   "codemirror_mode": {
    "name": "ipython",
    "version": 2
   },
   "file_extension": ".py",
   "mimetype": "text/x-python",
   "name": "python",
   "nbconvert_exporter": "python",
   "pygments_lexer": "ipython2",
   "version": "2.7.6"
  }
 },
 "nbformat": 4,
 "nbformat_minor": 5
}
