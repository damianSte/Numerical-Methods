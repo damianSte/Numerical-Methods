{
 "cells": [
  {
   "cell_type": "markdown",
   "id": "32a42c0406767c21",
   "metadata": {},
   "source": [
    "**Numerical Integration**\n",
    "\n",
    "Numerical Integration - broad family of algorithms for calculating the numerical value of definite integral."
   ]
  },
  {
   "cell_type": "code",
   "id": "initial_id",
   "metadata": {
    "collapsed": true,
    "jupyter": {
     "outputs_hidden": true
    },
    "ExecuteTime": {
     "end_time": "2024-11-16T21:32:38.336473Z",
     "start_time": "2024-11-16T21:32:38.332425Z"
    }
   },
   "source": [
    "import numpy as np\n",
    "import matplotlib.pyplot as plt"
   ],
   "outputs": [],
   "execution_count": 111
  },
  {
   "cell_type": "markdown",
   "id": "87b6fa2c12fe4c6b",
   "metadata": {},
   "source": [
    "First we define function $f(x) = \\frac{1}{\\sqrt{x^2+1}}$"
   ]
  },
  {
   "cell_type": "code",
   "id": "130bd724d93236b",
   "metadata": {
    "ExecuteTime": {
     "end_time": "2024-11-16T21:32:38.372397Z",
     "start_time": "2024-11-16T21:32:38.367465Z"
    }
   },
   "source": [
    "def f(x):\n",
    "    return (1/np.sqrt(np.pow(x,2)+1))"
   ],
   "outputs": [],
   "execution_count": 112
  },
  {
   "cell_type": "markdown",
   "id": "c027dfb2fd475141",
   "metadata": {},
   "source": [
    "I calculated value of function in interval [0,1], then I plotted function in interval [0,1] "
   ]
  },
  {
   "cell_type": "code",
   "id": "241a0f5fad8ed24b",
   "metadata": {
    "ExecuteTime": {
     "end_time": "2024-11-16T21:32:38.511013Z",
     "start_time": "2024-11-16T21:32:38.406625Z"
    }
   },
   "source": [
    "x = np.linspace(0,1, 20)\n",
    "analytical_fx = f(x)\n",
    "print(analytical_fx)\n",
    "\n",
    "plt.plot(x,analytical_fx)"
   ],
   "outputs": [
    {
     "name": "stdout",
     "output_type": "stream",
     "text": [
      "[1.         0.99861783 0.99450545 0.98776297 0.97854978 0.96707454\n",
      " 0.95358267 0.93834312 0.92163538 0.90373784 0.88491822 0.86542629\n",
      " 0.8454889  0.82530726 0.80505584 0.78488277 0.7649112  0.74524131\n",
      " 0.72595268 0.70710678]\n"
     ]
    },
    {
     "data": {
      "text/plain": [
       "[<matplotlib.lines.Line2D at 0x171359adc70>]"
      ]
     },
     "execution_count": 113,
     "metadata": {},
     "output_type": "execute_result"
    },
    {
     "data": {
      "text/plain": [
       "<Figure size 640x480 with 1 Axes>"
      ],
      "image/png": "[encoded data removed]"
     },
     "metadata": {},
     "output_type": "display_data"
    }
   ],
   "execution_count": 113
  },
  {
   "cell_type": "markdown",
   "id": "93a77021bbf7656a",
   "metadata": {},
   "source": [
    "defining rectangular method for numerical integration"
   ]
  },
  {
   "cell_type": "code",
   "id": "3a38057aa3c71971",
   "metadata": {
    "ExecuteTime": {
     "end_time": "2024-11-16T21:32:38.540203Z",
     "start_time": "2024-11-16T21:32:38.536246Z"
    }
   },
   "source": [
    "def rectangle_method(a,b,n):\n",
    "    h = (b-a)/n\n",
    "    x = np.linspace(a,b,n+1)\n",
    "    y = f(x)\n",
    "    I = h*np.sum(y[:-1])\n",
    "    return I"
   ],
   "outputs": [],
   "execution_count": 114
  },
  {
   "cell_type": "code",
   "id": "1b0608c1ce43fe62",
   "metadata": {
    "ExecuteTime": {
     "end_time": "2024-11-16T21:32:38.555073Z",
     "start_time": "2024-11-16T21:32:38.550213Z"
    }
   },
   "source": [
    "I_rect = rectangle_method(0,1,20)\n",
    "print(I_rect)"
   ],
   "outputs": [
    {
     "name": "stdout",
     "output_type": "stream",
     "text": [
      "0.8886222582346385\n"
     ]
    }
   ],
   "execution_count": 115
  },
  {
   "cell_type": "markdown",
   "id": "3840cf62af1e7b",
   "metadata": {},
   "source": [
    "Defining trapezoidal method for numerical integration"
   ]
  },
  {
   "cell_type": "code",
   "id": "47705eb8ebb8e5f5",
   "metadata": {
    "ExecuteTime": {
     "end_time": "2024-11-16T21:32:38.586680Z",
     "start_time": "2024-11-16T21:32:38.582797Z"
    }
   },
   "source": [
    "def trapezoidal_method(a,b,n):\n",
    "    h = (b-a)/n\n",
    "    x = np.linspace(a,b,n+1)\n",
    "    y = f(x)\n",
    "    I = h/2*y[0] + h/2*y[n-1] + h*np.sum(y[1:-1])\n",
    "    return I"
   ],
   "outputs": [],
   "execution_count": 116
  },
  {
   "cell_type": "code",
   "id": "2d6cc6f365eb950f",
   "metadata": {
    "ExecuteTime": {
     "end_time": "2024-11-16T21:32:38.604428Z",
     "start_time": "2024-11-16T21:32:38.598386Z"
    }
   },
   "source": [
    "I_trapeze = trapezoidal_method(0, 1, 100)\n",
    "print(I_trapeze)"
   ],
   "outputs": [
    {
     "name": "stdout",
     "output_type": "stream",
     "text": [
      "0.8813883623767236\n"
     ]
    }
   ],
   "execution_count": 117
  },
  {
   "cell_type": "markdown",
   "id": "717124393d3cc2ae",
   "metadata": {},
   "source": [
    "Defining $\\frac{1}{3} Simpson's Method$ for numerical integration"
   ]
  },
  {
   "cell_type": "code",
   "id": "97d13555f80e628f",
   "metadata": {
    "ExecuteTime": {
     "end_time": "2024-11-16T21:32:38.638889Z",
     "start_time": "2024-11-16T21:32:38.633813Z"
    }
   },
   "source": [
    "def simpsons_method(a,b,n):\n",
    "   h = (b - a) / n\n",
    "   x = np.linspace(a, b, n+1)\n",
    "   y = f(x)\n",
    "   I = h/3 * (y[0] + 4*np.sum(y[1:-1:2]) + 2*np.sum(y[2:-1:2]) + y[-1])\n",
    "   return I"
   ],
   "outputs": [],
   "execution_count": 118
  },
  {
   "cell_type": "code",
   "id": "84fbd98205c9fcc6",
   "metadata": {
    "ExecuteTime": {
     "end_time": "2024-11-16T21:32:38.656768Z",
     "start_time": "2024-11-16T21:32:38.653081Z"
    }
   },
   "source": [
    "I_simpsons = simpsons_method(0,1,100)\n",
    "print(I_simpsons)"
   ],
   "outputs": [
    {
     "name": "stdout",
     "output_type": "stream",
     "text": [
      "0.8813735870342707\n"
     ]
    }
   ],
   "execution_count": 119
  },
  {
   "cell_type": "markdown",
   "id": "923192f42d2f4f3e",
   "metadata": {},
   "source": [
    "**Conclusions**\n",
    "\n",
    "We notice that for these particular function our results for all three methods are similar, proving reliability of these methods.  "
   ]
  },
  {
   "metadata": {
    "ExecuteTime": {
     "end_time": "2024-11-16T21:32:38.688758Z",
     "start_time": "2024-11-16T21:32:38.685391Z"
    }
   },
   "cell_type": "code",
   "source": "from scipy.integrate import quad",
   "id": "5c1d0fa90e6ddf38",
   "outputs": [],
   "execution_count": 120
  },
  {
   "metadata": {
    "ExecuteTime": {
     "end_time": "2024-11-16T21:32:38.701832Z",
     "start_time": "2024-11-16T21:32:38.697549Z"
    }
   },
   "cell_type": "code",
   "source": [
    "a = 0\n",
    "b = 1\n",
    "\n",
    "#Extract only the integral value (first element of the tuple) from quad with \",_\"\n",
    "exact, _ = quad(f, a, b)\n"
   ],
   "id": "1029c3e1b114af6c",
   "outputs": [],
   "execution_count": 121
  },
  {
   "metadata": {
    "ExecuteTime": {
     "end_time": "2024-11-16T21:32:38.714151Z",
     "start_time": "2024-11-16T21:32:38.710351Z"
    }
   },
   "cell_type": "code",
   "source": [
    "n_values  = np.arange(1,20 ,dtype=int)\n",
    "rect_errors = []\n",
    "trapeze_errors = []\n",
    "simpsons_errors = []"
   ],
   "id": "a277f2ba2d0a06ab",
   "outputs": [],
   "execution_count": 122
  },
  {
   "metadata": {
    "ExecuteTime": {
     "end_time": "2024-11-16T21:32:38.727719Z",
     "start_time": "2024-11-16T21:32:38.723067Z"
    }
   },
   "cell_type": "code",
   "source": [
    "for n in n_values:\n",
    "    rect = rectangle_method(a,b,n)\n",
    "    trapeze = trapezoidal_method(a,b,n)\n",
    "    \n",
    "    rect_errors.append(np.abs(rect - exact))\n",
    "    trapeze_errors.append(np.abs(trapeze - exact))\n"
   ],
   "id": "74ca3e49e0659c8e",
   "outputs": [],
   "execution_count": 123
  },
  {
   "metadata": {},
   "cell_type": "markdown",
   "source": "Simpson method uses only ",
   "id": "2e3af39bfc088ebb"
  },
  {
   "metadata": {
    "ExecuteTime": {
     "end_time": "2024-11-16T21:32:38.743046Z",
     "start_time": "2024-11-16T21:32:38.738177Z"
    }
   },
   "cell_type": "code",
   "source": [
    "max_n = 20\n",
    "for n_two in range(2, max_n + 1, 2):  # Start from 2, increment by 2\n",
    "    simpsons = simpsons_method(a, b, n_two)\n",
    "    simpsons_errors.append(np.abs(simpsons - exact))\n"
   ],
   "id": "a3c5ccae7b1f3d6e",
   "outputs": [],
   "execution_count": 124
  },
  {
   "metadata": {
    "ExecuteTime": {
     "end_time": "2024-11-16T21:32:39.234491Z",
     "start_time": "2024-11-16T21:32:38.760304Z"
    }
   },
   "cell_type": "code",
   "source": [
    "\n",
    "n_even_values = np.arange(2, max_n + 1, 2)\n",
    "\n",
    "plt.loglog(n_values, rect_errors,  label=\"Rectangle Method\")\n",
    "plt.loglog(n_values, trapeze_errors,  label=\"Trapezoid Method\")\n",
    "plt.loglog(n_even_values, simpsons_errors,  label=\"Simpson's Method\")\n",
    "plt.xlabel(\"Number of Points (n)\")\n",
    "plt.ylabel(\"Absolute Error\")\n",
    "plt.title(\"Absolute Error\")\n",
    "plt.legend()\n",
    "plt.grid()\n"
   ],
   "id": "4db2b56457820b11",
   "outputs": [
    {
     "data": {
      "text/plain": [
       "<Figure size 640x480 with 1 Axes>"
      ],
      "image/png": "[encoded data removed]"
     },
     "metadata": {},
     "output_type": "display_data"
    }
   ],
   "execution_count": 125
  }
 ],
 "metadata": {
  "kernelspec": {
   "display_name": "Python 3 (ipykernel)",
   "language": "python",
   "name": "python3"
  },
  "language_info": {
   "codemirror_mode": {
    "name": "ipython",
    "version": 3
   },
   "file_extension": ".py",
   "mimetype": "text/x-python",
   "name": "python",
   "nbconvert_exporter": "python",
   "pygments_lexer": "ipython3",
   "version": "3.12.6"
  }
 },
 "nbformat": 4,
 "nbformat_minor": 5
}
