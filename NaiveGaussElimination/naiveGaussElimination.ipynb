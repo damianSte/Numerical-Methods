{
 "cells": [
  {
   "cell_type": "code",
   "id": "initial_id",
   "metadata": {
    "collapsed": true,
    "ExecuteTime": {
     "end_time": "2024-11-20T19:17:13.343342Z",
     "start_time": "2024-11-20T19:17:13.339414Z"
    }
   },
   "source": [
    "import numpy as np\n",
    "#linal\n",
    "import sys\n",
    "import matplotlib.pyplot as plt"
   ],
   "outputs": [],
   "execution_count": 53
  },
  {
   "metadata": {
    "ExecuteTime": {
     "end_time": "2024-11-20T19:17:13.360877Z",
     "start_time": "2024-11-20T19:17:13.353347Z"
    }
   },
   "cell_type": "code",
   "source": [
    "def naiveGaussElimination(A):\n",
    "    \n",
    "    A = A.astype(float)\n",
    "    n = len(A)\n",
    "    x = np.zeros(n)\n",
    "    \n",
    "    for i in range(n):\n",
    "        if A[i][i] == 0.0:\n",
    "            sys.exit('Divide by zero detected!')\n",
    "        \n",
    "        print(f\"Iterations {i +1} - Before elimination\")\n",
    "        print(A)\n",
    "        \n",
    "        for j in range(i+1, n):\n",
    "            factor = A[j][i]/A[i][i]\n",
    "            for k in range(i, n+1):\n",
    "                A[j][k] = A[j][k] - factor * A[i][k]\n",
    "    \n",
    "    #Back Substitution\n",
    "    x[n-1] = A[n-1][n]/A[n-1][n-1]\n",
    "    for i in range(n-2, -1, -1):\n",
    "        x[i] = A[i][n]\n",
    "        for j in range(i+1, n):\n",
    "            x[i] = x[i] - A[i][j] * x[j]\n",
    "        x[i] = x[i]/A[i][i]\n",
    "    \n",
    "    print(x[0], x[1], x[2])\n",
    "           \n",
    "    return A"
   ],
   "id": "dcece05ea4a26bfe",
   "outputs": [],
   "execution_count": 54
  },
  {
   "metadata": {
    "ExecuteTime": {
     "end_time": "2024-11-20T19:17:21.587129Z",
     "start_time": "2024-11-20T19:17:21.581979Z"
    }
   },
   "cell_type": "code",
   "source": [
    "\n",
    "A = np.array([[10, 2, -1, 27],\n",
    "                [-3, -6, 2, -61.5],\n",
    "                [1, 1, 5, -21.5]])\n",
    "\n",
    "print(naiveGaussElimination(A))"
   ],
   "id": "6c7eb00b3b7ced6f",
   "outputs": [
    {
     "name": "stdout",
     "output_type": "stream",
     "text": [
      "Iterations 1 - Before elimination\n",
      "[[ 10.    2.   -1.   27. ]\n",
      " [ -3.   -6.    2.  -61.5]\n",
      " [  1.    1.    5.  -21.5]]\n",
      "Iterations 2 - Before elimination\n",
      "[[ 10.    2.   -1.   27. ]\n",
      " [  0.   -5.4   1.7 -53.4]\n",
      " [  0.    0.8   5.1 -24.2]]\n",
      "Iterations 3 - Before elimination\n",
      "[[ 10.           2.          -1.          27.        ]\n",
      " [  0.          -5.4          1.7        -53.4       ]\n",
      " [  0.           0.           5.35185185 -32.11111111]]\n",
      "0.5 8.0 -6.0\n",
      "[[ 10.           2.          -1.          27.        ]\n",
      " [  0.          -5.4          1.7        -53.4       ]\n",
      " [  0.           0.           5.35185185 -32.11111111]]\n"
     ]
    }
   ],
   "execution_count": 56
  },
  {
   "metadata": {
    "ExecuteTime": {
     "end_time": "2024-11-20T19:17:13.489999Z",
     "start_time": "2024-11-20T19:17:13.486292Z"
    }
   },
   "cell_type": "code",
   "source": "",
   "id": "e68f37259b8ab9a1",
   "outputs": [],
   "execution_count": null
  }
 ],
 "metadata": {
  "kernelspec": {
   "display_name": "Python 3",
   "language": "python",
   "name": "python3"
  },
  "language_info": {
   "codemirror_mode": {
    "name": "ipython",
    "version": 2
   },
   "file_extension": ".py",
   "mimetype": "text/x-python",
   "name": "python",
   "nbconvert_exporter": "python",
   "pygments_lexer": "ipython2",
   "version": "2.7.6"
  }
 },
 "nbformat": 4,
 "nbformat_minor": 5
}
